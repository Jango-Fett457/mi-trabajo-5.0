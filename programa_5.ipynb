{
  "nbformat": 4,
  "nbformat_minor": 0,
  "metadata": {
    "colab": {
      "provenance": []
    },
    "kernelspec": {
      "name": "python3",
      "display_name": "Python 3"
    },
    "language_info": {
      "name": "python"
    }
  },
  "cells": [
    {
      "cell_type": "code",
      "execution_count": 8,
      "metadata": {
        "colab": {
          "base_uri": "https://localhost:8080/"
        },
        "id": "LrQbESUGSpKD",
        "outputId": "6fcaf963-eeba-4626-9b4a-431cbfa3619d"
      },
      "outputs": [
        {
          "output_type": "stream",
          "name": "stdout",
          "text": [
            "{'Nombre': 'Carlos', 'Edad': 16, 'matricula': 241690359, 'peso': '60k', 'telefono': 3111154709, 'domicilio': 'calle andador la yesca', 'carrera': 'Ciencia de datos e inteligencia artificial'}\n"
          ]
        }
      ],
      "source": [
        "d1 = {\n",
        "  \"Nombre\": \"Carlos\",\n",
        "  \"Edad\": 16,\n",
        "  \"matricula\": 241690367-8,\n",
        "  \"peso\": \"60k\",\n",
        "  \"telefono\": 3111154709,\n",
        "  \"domicilio\": \"calle andador la yesca\",\n",
        "  \"carrera\": \"Ciencia de datos e inteligencia artificial\"\n",
        "}\n",
        "print(d1)"
      ]
    }
  ]
}